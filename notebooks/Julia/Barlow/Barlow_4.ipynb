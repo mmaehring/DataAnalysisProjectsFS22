{
 "cells": [
  {
   "cell_type": "markdown",
   "id": "52925b3d",
   "metadata": {},
   "source": [
    "# Errors \n",
    "A summary by Marcus Mähring: mmaehring@student.ethz.ch"
   ]
  },
  {
   "cell_type": "code",
   "execution_count": null,
   "id": "8cce781b",
   "metadata": {},
   "outputs": [],
   "source": []
  },
  {
   "cell_type": "code",
   "execution_count": null,
   "id": "037288e2",
   "metadata": {},
   "outputs": [],
   "source": []
  },
  {
   "cell_type": "code",
   "execution_count": null,
   "id": "40af9b5b",
   "metadata": {},
   "outputs": [],
   "source": []
  },
  {
   "cell_type": "markdown",
   "id": "c6600b7b",
   "metadata": {},
   "source": [
    "## Problems \n",
    "##### 4.1\n",
    "Which is preferable, a set of ten measurements with a resolution of 1mm or one measurement with a resolution of 0.2mm?\n",
    "\n",
    "<b>Solution:</b> We would prefer the one measurement at 0.2mm. The combined error for the ten other measurements is $\\frac{1}{\\sqrt{10}} \\approx 0.32 > 0.2$. \n",
    "\n",
    "However, the ten measurements at least provide a consistency check. "
   ]
  }
 ],
 "metadata": {
  "kernelspec": {
   "display_name": "Julia 1.6.0",
   "language": "julia",
   "name": "julia-1.6"
  },
  "language_info": {
   "file_extension": ".jl",
   "mimetype": "application/julia",
   "name": "julia",
   "version": "1.6.0"
  }
 },
 "nbformat": 4,
 "nbformat_minor": 5
}
