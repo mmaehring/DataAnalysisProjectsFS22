{
 "cells": [
  {
   "cell_type": "code",
   "execution_count": null,
   "id": "dc13114a",
   "metadata": {},
   "outputs": [],
   "source": []
  }
 ],
 "metadata": {
  "kernelspec": {
   "display_name": "Julia 1.6.0",
   "language": "julia",
   "name": "julia-1.6"
  }
 },
 "nbformat": 4,
 "nbformat_minor": 5
}
