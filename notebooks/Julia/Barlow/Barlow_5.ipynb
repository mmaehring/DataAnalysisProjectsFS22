{
 "cells": [
  {
   "cell_type": "markdown",
   "id": "26494a74",
   "metadata": {},
   "source": [
    "# Estimation\n",
    "A summary by Marcus Mähring: mmaehring@student.ethz.ch\n",
    "\n",
    "In the field of statistics, the term 'estimation' takes on a distinctly different meaning than in everyday life. In this context, it means a precise and accurate procedure, leading to a result which may be imprecise, but where at least <i>the extent of the imprecision is known</i>. It is __not__ an approximation. \n",
    "\n",
    "They are employed when we have some data, from which we want to draw conclusions and produce a \"best\" value. for some particular quantity (or several quantities) and we want to know how reliable this number is (its error). \n",
    "\n",
    "The estimator known as <i>least squares estimation</i> is so important it gets it's own chapter. \n",
    "\n",
    "###### Definition\n",
    "__An estimator__ <i>is a procedure applied to the data sample which gives a numerical value for a property of the parent distribution or, as appropriate, a property or parameter of the parent distribution function</i>"
   ]
  },
  {
   "cell_type": "code",
   "execution_count": null,
   "id": "dc13114a",
   "metadata": {},
   "outputs": [],
   "source": []
  }
 ],
 "metadata": {
  "kernelspec": {
   "display_name": "Julia 1.6.0",
   "language": "julia",
   "name": "julia-1.6"
  },
  "language_info": {
   "file_extension": ".jl",
   "mimetype": "application/julia",
   "name": "julia",
   "version": "1.6.0"
  }
 },
 "nbformat": 4,
 "nbformat_minor": 5
}
