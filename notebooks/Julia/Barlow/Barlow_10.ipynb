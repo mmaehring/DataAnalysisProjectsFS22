{
 "cells": [
  {
   "cell_type": "markdown",
   "id": "8a5fb213",
   "metadata": {},
   "source": [
    "# Notes For Number Crunchers \n",
    "A summary by Marcus Mähring: mmaehring@student.ethz.ch\n"
   ]
  },
  {
   "cell_type": "code",
   "execution_count": null,
   "id": "fa580e06",
   "metadata": {},
   "outputs": [],
   "source": []
  }
 ],
 "metadata": {
  "kernelspec": {
   "display_name": "Julia 1.6.0",
   "language": "julia",
   "name": "julia-1.6"
  },
  "language_info": {
   "file_extension": ".jl",
   "mimetype": "application/julia",
   "name": "julia",
   "version": "1.6.0"
  }
 },
 "nbformat": 4,
 "nbformat_minor": 5
}
